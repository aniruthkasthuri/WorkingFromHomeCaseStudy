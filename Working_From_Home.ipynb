{
 "cells": [
  {
   "cell_type": "markdown",
   "metadata": {},
   "source": [
    "## Lab 2\n",
    "### UGBA 96: Data and Decisions\n",
    "\n",
    "<img src=\"Ctrip-logo.png\" alt=\"Drawing\" style=\"width: 400px;\"/>\n",
    "\n",
    "\n",
    "Complete and submit this lab by 11:59pm, Monday, February 12th.\n",
    "\n",
    "## Does Working From Home Work?\n",
    "\n",
    "\n",
    "In this demonstration we will analyze data from a 2010 field experiment. Bloom et al. (2014) evaluate an experiment at Ctrip, China's largest travel agency. At the time of the study, the company had 16,000 employees and a $7 billion valuation.\n",
    "\n",
    "Ctrip was considering allowing Working From Home (WFH) to save on office rent. However, they were worried that employees may not work as hard at home. To better understand what impact this policy would have, they ran an experiment.\n",
    "\n",
    "The site for the experiment was Ctrip's airfare and hotel departments in Shanghai. These departments take calls and make bookings. Employees typically work 5 shifts a week in teams of about 15 people, plus a manager.\n",
    "\n",
    "We'll analyze the experiment Ctrip ran in the next section and provide more details on how the experiment worked. For now, you only need to know that:\n",
    "   * In order to qualify for WFH, employees must have their own room, broadband internet, and 6+ months of experience in their current position.\n",
    "   * After the experiment ended, all qualifying workers were given the option to WFH or in the office.\n",
    "\n",
    "*Dependencies:* \n",
    "\n",
    "Numpy"
   ]
  },
  {
   "cell_type": "code",
   "execution_count": 27,
   "metadata": {},
   "outputs": [],
   "source": [
    "from datascience import *\n",
    "import numpy as np\n",
    "import matplotlib.pyplot as plt\n",
    "%matplotlib inline"
   ]
  },
  {
   "cell_type": "markdown",
   "metadata": {},
   "source": [
    "### Who Chooses to Work from Home?\n",
    "\n",
    "<img src=\"shanghai_office.png\" alt=\"Drawing\" style=\"width: 400px;\"/>\n",
    "<center>Employees in Shanghai office</center>\n",
    "\n",
    "<img src=\"wfh_example.png\" alt=\"Drawing\" style=\"width: 400px;\"/>\n",
    "<center>An employee working from home</center>\n",
    "\n",
    "We will first look at data from after the experiment ended and compare workers that *chose* to work from home to those that *chose* to work at the office. In the absence of an experiment, it would be natural to compare performance for these two groups of workers to better understand the impact of WFH on productivity.\n",
    "\n",
    "**1.** First, we'll read in the data from the experiment and see what we have.  The data are called \"wfh_obs.csv\"."
   ]
  },
  {
   "cell_type": "code",
   "execution_count": 8,
   "metadata": {},
   "outputs": [],
   "source": [
    "workers = Table.read_table(\"wfh_obs.csv\")"
   ]
  },
  {
   "cell_type": "markdown",
   "metadata": {},
   "source": [
    "Each row corresponds to a specific employee, indexed by `personid`. Note the variables that are included in the data. Most are self-explanatory, but there are a couple that require some explanation:\n",
    "\n",
    "   `wfh`: Whether the employee Works From Home. This takes a value of 1 for employees that WFH, and 0 for employees that work from the office. (Note: variables that only take the values `0` and `1` are called **dummy** or **indicator** variables. `wfh` is a 'dummy variable for whether an employee Works From Home.')\n",
    "\n",
    "   `tenure`: Tenure at the company in months.\n",
    "   \n",
    "   `grosswage`: Gross wage (1000 Yuan).\n",
    "   \n",
    "   `bedroom`: Whether the employee has their own bedroom.\n",
    "   \n",
    "   `commute`: Commute time to and from office recorded in minutes.\n",
    "   \n",
    "   `high_educ`: College education and above."
   ]
  },
  {
   "cell_type": "markdown",
   "metadata": {},
   "source": [
    "**2.** Consider the columns available in the table that describe each worker. What categories of workers do you expect are more likely *to choose* to work from home?"
   ]
  },
  {
   "cell_type": "raw",
   "metadata": {},
   "source": [
    "The workers who have greater tenure are allowed to work from home. The commute being greater can also affect someone and cause them to work from home."
   ]
  },
  {
   "cell_type": "markdown",
   "metadata": {},
   "source": [
    "**3.** Let's compare workers that choose to work from home to those that don't. Produce the averages for each column, grouped on `wfh`.\n",
    "\n",
    "(Note: Use the parameter `collect` to calculate the averages. When you do this, some values won't appear. We'll discuss this issue next.)"
   ]
  },
  {
   "cell_type": "code",
   "execution_count": 18,
   "metadata": {},
   "outputs": [
    {
     "name": "stdout",
     "output_type": "stream",
     "text": [
      "1.0\n",
      "29.7227272727\n",
      "3.10118454273\n",
      "116.568181818\n",
      "0.409090909091\n",
      "0.0\n",
      "24.4219457014\n",
      "2.83186895756\n",
      "76.0727375564\n",
      "0.418552036199\n"
     ]
    },
    {
     "data": {
      "text/html": [
       "<table border=\"1\" class=\"dataframe\">\n",
       "    <thead>\n",
       "        <tr>\n",
       "            <th>wfh</th> <th>personid mean</th> <th>age mean</th> <th>tenure mean</th> <th>grosswage mean</th> <th>children mean</th> <th>bedroom mean</th> <th>commute mean</th> <th>men mean</th> <th>married mean</th> <th>high_educ mean</th>\n",
       "        </tr>\n",
       "    </thead>\n",
       "    <tbody>\n",
       "        <tr>\n",
       "            <td>0   </td> <td>30964.3      </td> <td>22.9808 </td> <td>24.4219    </td> <td>2.83187       </td> <td>             </td> <td>            </td> <td>76.0727     </td> <td>0.311086</td> <td>0.132353    </td> <td>0.418552      </td>\n",
       "        </tr>\n",
       "    </tbody>\n",
       "        <tr>\n",
       "            <td>1   </td> <td>28229.5      </td> <td>25.1727 </td> <td>29.7227    </td> <td>3.10118       </td> <td>             </td> <td>            </td> <td>116.568     </td> <td>0.418182</td> <td>0.3         </td> <td>0.409091      </td>\n",
       "        </tr>\n",
       "    </tbody>\n",
       "</table>"
      ],
      "text/plain": [
       "wfh  | personid mean | age mean | tenure mean | grosswage mean | children mean | bedroom mean | commute mean | men mean | married mean | high_educ mean\n",
       "0    | 30964.3       | 22.9808  | 24.4219     | 2.83187        |               |              | 76.0727      | 0.311086 | 0.132353     | 0.418552\n",
       "1    | 28229.5       | 25.1727  | 29.7227     | 3.10118        |               |              | 116.568      | 0.418182 | 0.3          | 0.409091"
      ]
     },
     "execution_count": 18,
     "metadata": {},
     "output_type": "execute_result"
    }
   ],
   "source": [
    "print(np.average(workers.where(\"wfh\",are.equal_to(1)).column('wfh')))\n",
    "print(np.average(workers.where(\"wfh\",are.equal_to(1)).column('tenure')))\n",
    "print(np.average(workers.where(\"wfh\",are.equal_to(1)).column('grosswage')))\n",
    "print(np.average(workers.where(\"wfh\",are.equal_to(1)).column('commute')))\n",
    "print(np.average(workers.where(\"wfh\",are.equal_to(1)).column('high_educ')))\n",
    "\n",
    "print(np.average(workers.where(\"wfh\",are.equal_to(0)).column('wfh')))\n",
    "print(np.average(workers.where(\"wfh\",are.equal_to(0)).column('tenure')))\n",
    "print(np.average(workers.where(\"wfh\",are.equal_to(0)).column('grosswage')))\n",
    "print(np.average(workers.where(\"wfh\",are.equal_to(0)).column('commute')))\n",
    "print(np.average(workers.where(\"wfh\",are.equal_to(0)).column('high_educ')))\n",
    "\n",
    "workers.group(\"wfh\",np.mean)"
   ]
  },
  {
   "cell_type": "markdown",
   "metadata": {},
   "source": [
    "This table has some of the right values, but seems to be missing certain values. This is because the **np.mean function ** can only take in numerical arguments. For `children` and `bedroom`, the problem is that the values are recorded as 'yes' and 'no'. This is a **boolean** column--it only takes two values that indicate `TRUE` or `FALSE`. We can deal with these issues by turning `children` and `bedroom` from boolean into numeric variables.\n",
    "\n",
    "We can start by modifying the `children` and `bedroom` columns, so that they contain a `1` for a 'yes' and a `0` for a 'no'.\n",
    "\n",
    "\n",
    "This is done by:\n",
    "\n",
    "1) Converting the variable into a boolean (TRUE/FALSE) based on the membership criteria we described above\n",
    "\n",
    "2) Using built-in packages to convert arrays of booleans into 1s and 0s\n",
    "\n",
    "3) Replacing the named columns with the transformed values"
   ]
  },
  {
   "cell_type": "code",
   "execution_count": 13,
   "metadata": {
    "scrolled": true
   },
   "outputs": [
    {
     "data": {
      "text/html": [
       "<table border=\"1\" class=\"dataframe\">\n",
       "    <thead>\n",
       "        <tr>\n",
       "            <th>personid</th> <th>wfh</th> <th>age</th> <th>tenure</th> <th>grosswage</th> <th>children</th> <th>bedroom</th> <th>commute</th> <th>men</th> <th>married</th> <th>high_educ</th>\n",
       "        </tr>\n",
       "    </thead>\n",
       "    <tbody>\n",
       "        <tr>\n",
       "            <td>3906    </td> <td>1   </td> <td>33  </td> <td>96    </td> <td>2.73755  </td> <td>1       </td> <td>1      </td> <td>180    </td> <td>0   </td> <td>1      </td> <td>0        </td>\n",
       "        </tr>\n",
       "    </tbody>\n",
       "        <tr>\n",
       "            <td>4122    </td> <td>1   </td> <td>30  </td> <td>94    </td> <td>4.09625  </td> <td>0       </td> <td>0      </td> <td>180    </td> <td>0   </td> <td>0      </td> <td>0        </td>\n",
       "        </tr>\n",
       "    </tbody>\n",
       "        <tr>\n",
       "            <td>4448    </td> <td>1   </td> <td>35  </td> <td>92    </td> <td>4.2693   </td> <td>1       </td> <td>1      </td> <td>100    </td> <td>0   </td> <td>1      </td> <td>0        </td>\n",
       "        </tr>\n",
       "    </tbody>\n",
       "        <tr>\n",
       "            <td>4942    </td> <td>1   </td> <td>27  </td> <td>82    </td> <td>5.2954   </td> <td>0       </td> <td>1      </td> <td>160    </td> <td>0   </td> <td>1      </td> <td>0        </td>\n",
       "        </tr>\n",
       "    </tbody>\n",
       "        <tr>\n",
       "            <td>5018    </td> <td>1   </td> <td>29  </td> <td>82    </td> <td>1.38759  </td> <td>1       </td> <td>1      </td> <td>240    </td> <td>0   </td> <td>1      </td> <td>0        </td>\n",
       "        </tr>\n",
       "    </tbody>\n",
       "        <tr>\n",
       "            <td>5614    </td> <td>0   </td> <td>32  </td> <td>79    </td> <td>3.82601  </td> <td>0       </td> <td>1      </td> <td>80     </td> <td>1   </td> <td>1      </td> <td>0        </td>\n",
       "        </tr>\n",
       "    </tbody>\n",
       "        <tr>\n",
       "            <td>6362    </td> <td>0   </td> <td>29  </td> <td>82    </td> <td>4.89471  </td> <td>1       </td> <td>1      </td> <td>200    </td> <td>0   </td> <td>1      </td> <td>0        </td>\n",
       "        </tr>\n",
       "    </tbody>\n",
       "        <tr>\n",
       "            <td>6364    </td> <td>1   </td> <td>26  </td> <td>82    </td> <td>6.22075  </td> <td>1       </td> <td>1      </td> <td>180    </td> <td>0   </td> <td>1      </td> <td>0        </td>\n",
       "        </tr>\n",
       "    </tbody>\n",
       "        <tr>\n",
       "            <td>7068    </td> <td>0   </td> <td>28  </td> <td>72    </td> <td>4.34182  </td> <td>0       </td> <td>1      </td> <td>40     </td> <td>0   </td> <td>1      </td> <td>1        </td>\n",
       "        </tr>\n",
       "    </tbody>\n",
       "        <tr>\n",
       "            <td>7076    </td> <td>1   </td> <td>30  </td> <td>72    </td> <td>2.66415  </td> <td>1       </td> <td>1      </td> <td>120    </td> <td>0   </td> <td>1      </td> <td>1        </td>\n",
       "        </tr>\n",
       "    </tbody>\n",
       "</table>\n",
       "<p>... (984 rows omitted)</p"
      ],
      "text/plain": [
       "personid | wfh  | age  | tenure | grosswage | children | bedroom | commute | men  | married | high_educ\n",
       "3906     | 1    | 33   | 96     | 2.73755   | 1        | 1       | 180     | 0    | 1       | 0\n",
       "4122     | 1    | 30   | 94     | 4.09625   | 0        | 0       | 180     | 0    | 0       | 0\n",
       "4448     | 1    | 35   | 92     | 4.2693    | 1        | 1       | 100     | 0    | 1       | 0\n",
       "4942     | 1    | 27   | 82     | 5.2954    | 0        | 1       | 160     | 0    | 1       | 0\n",
       "5018     | 1    | 29   | 82     | 1.38759   | 1        | 1       | 240     | 0    | 1       | 0\n",
       "5614     | 0    | 32   | 79     | 3.82601   | 0        | 1       | 80      | 1    | 1       | 0\n",
       "6362     | 0    | 29   | 82     | 4.89471   | 1        | 1       | 200     | 0    | 1       | 0\n",
       "6364     | 1    | 26   | 82     | 6.22075   | 1        | 1       | 180     | 0    | 1       | 0\n",
       "7068     | 0    | 28   | 72     | 4.34182   | 0        | 1       | 40      | 0    | 1       | 1\n",
       "7076     | 1    | 30   | 72     | 2.66415   | 1        | 1       | 120     | 0    | 1       | 1\n",
       "... (984 rows omitted)"
      ]
     },
     "execution_count": 13,
     "metadata": {},
     "output_type": "execute_result"
    }
   ],
   "source": [
    "#this cell converts and children and bedroom into 0/1 variables and stores them in the table workers_clean\n",
    "worker_children = np.int32(workers.column('children') == 'yes')\n",
    "worker_bedroom = np.int32(workers.column('bedroom') == 'yes')\n",
    "\n",
    "workers_clean = workers.with_columns(['children', worker_children, 'bedroom', worker_bedroom])\n",
    "workers_clean"
   ]
  },
  {
   "cell_type": "markdown",
   "metadata": {},
   "source": [
    "<br>\n",
    "\n",
    "Then we can re-compute the means using the cleaned up data. Use the same calculations to group and calculate averages as above.\n",
    "\n",
    "<br>"
   ]
  },
  {
   "cell_type": "code",
   "execution_count": 20,
   "metadata": {
    "scrolled": true
   },
   "outputs": [
    {
     "data": {
      "text/html": [
       "<table border=\"1\" class=\"dataframe\">\n",
       "    <thead>\n",
       "        <tr>\n",
       "            <th>wfh</th> <th>personid mean</th> <th>age mean</th> <th>tenure mean</th> <th>grosswage mean</th> <th>children mean</th> <th>bedroom mean</th> <th>commute mean</th> <th>men mean</th> <th>married mean</th> <th>high_educ mean</th>\n",
       "        </tr>\n",
       "    </thead>\n",
       "    <tbody>\n",
       "        <tr>\n",
       "            <td>0   </td> <td>30964.3      </td> <td>22.9808 </td> <td>24.4219    </td> <td>2.83187       </td> <td>0.0735294    </td> <td>0.556561    </td> <td>76.0727     </td> <td>0.311086</td> <td>0.132353    </td> <td>0.418552      </td>\n",
       "        </tr>\n",
       "    </tbody>\n",
       "        <tr>\n",
       "            <td>1   </td> <td>28229.5      </td> <td>25.1727 </td> <td>29.7227    </td> <td>3.10118       </td> <td>0.172727     </td> <td>0.990909    </td> <td>116.568     </td> <td>0.418182</td> <td>0.3         </td> <td>0.409091      </td>\n",
       "        </tr>\n",
       "    </tbody>\n",
       "</table>"
      ],
      "text/plain": [
       "wfh  | personid mean | age mean | tenure mean | grosswage mean | children mean | bedroom mean | commute mean | men mean | married mean | high_educ mean\n",
       "0    | 30964.3       | 22.9808  | 24.4219     | 2.83187        | 0.0735294     | 0.556561     | 76.0727      | 0.311086 | 0.132353     | 0.418552\n",
       "1    | 28229.5       | 25.1727  | 29.7227     | 3.10118        | 0.172727      | 0.990909     | 116.568      | 0.418182 | 0.3          | 0.409091"
      ]
     },
     "execution_count": 20,
     "metadata": {},
     "output_type": "execute_result"
    }
   ],
   "source": [
    "workers_clean.group(\"wfh\",np.mean)"
   ]
  },
  {
   "cell_type": "markdown",
   "metadata": {},
   "source": [
    "** 4. ** How do these differences compare to your expectations described in question **(2)**?"
   ]
  },
  {
   "cell_type": "raw",
   "metadata": {},
   "source": [
    "Most of my preductions were true though I missed mentioning children and bedrooms as a factor."
   ]
  },
  {
   "cell_type": "markdown",
   "metadata": {},
   "source": [
    "Let's take a closer look at one column in particular, `commute`. Recall that this measures an employee's normal commute time to the office in minutes. The average value for `commute` is substantially larger among those who choose to work from home. This is not too surprising--the more painful the *commute*, the more willing we would expect someone to be to avoid it. \n",
    "\n",
    "This is a form of **selection bias**. When we compare workers that *choose* to work from home to workers that *choose* to come into the office, we are not comparing like with like. We would like to determine the *causal effect* of working from home on employee productivity. But comparing these two groups of workers alone probably won't get us there. Productivity may differ between the two groups for reasons beyond work location. Can you think of reasons why? \n",
    "\n",
    "In particular, using the notation from class, we may worry that:\n",
    "\n",
    "$$E[Y_{i0} | \\, i  \\text{ is Work From Home}] \\ne E[Y_{i0} | \\, i \\text{ is Work From Office}]$$\n",
    "\n",
    "Where $Y$ is productivity, and $Y_{0}$ is productivity under the control condition, that is while *working from the office*. Recall that quantity on the left--the *counterfactual* productivity for employees that Work From Home if they were to work in the office--is something that we *do not observe*. So, we can't actually check whether the two quantities differ.\n",
    "\n",
    "Why may those two quantities be different? For example, those who were willing to commute such a long distance in the first place may tend to be more dedicated employees. On the other hand, those with longer commutes may be less productive in the office because they are more fatigued."
   ]
  },
  {
   "cell_type": "markdown",
   "metadata": {},
   "source": [
    "## Solution: Run an Experiment\n",
    "\n",
    "<img src=\"drawing.png\" alt=\"Drawing\" style=\"width: 400px;\"/>\n",
    "\n",
    "<center>The lottery drawing</center>\n",
    "\n",
    "**Selection bias** makes it difficult to measure the causal effect of a treatment. As we discussed in lecture, the best solution to the problem of selection bias is to run an **experiment.** This makes treatment assignment *independent* of potential outcomes. Let's discuss Ctrip's experiment in more detail.\n",
    "\n",
    "To recruit participants in the experiment, Ctrip asked 996 employees if they wanted to work from home 4 days a week. 508 volunteered. To participate in the experiment, Ctrip also required that the employee met additional requirements, including having their own room, broadband internet, and 6+ months of experience in the position. The final experiment group consisted of 255 employees.\n",
    "\n",
    "The **treatment group** worked 4 shifts a week at home and 1 shift a week in the office, for 9 months.\n",
    "\n",
    "The **control group** worked all 5 shifts in the office.\n",
    "\n",
    "Otherwise treatment and control groups were identical: they had the same shift, same equipment, same work-flow, and same pay structure.\n",
    "\n",
    "To assign employees to the treatment and control groups, Ctrip held a lottery. After a drawing, employees with even birthdays were assigned to the WFH treatment, while those with odd birthdays were assigned to the control group, and worked in the office as before.\n",
    "\n",
    "Let's analyze the results.\n",
    "\n",
    "**5.** First, let's read in the data from the experiment. The set of columns are similar, with some differences. We'll transform `children` and `bedroom` as above."
   ]
  },
  {
   "cell_type": "code",
   "execution_count": 21,
   "metadata": {},
   "outputs": [
    {
     "data": {
      "text/html": [
       "<table border=\"1\" class=\"dataframe\">\n",
       "    <thead>\n",
       "        <tr>\n",
       "            <th>personid</th> <th>treatment</th> <th>performance</th> <th>performance_pre</th> <th>age</th> <th>tenure</th> <th>basewage</th> <th>costofcommute</th> <th>children</th> <th>bedroom</th> <th>expgroup</th> <th>men</th> <th>married</th>\n",
       "        </tr>\n",
       "    </thead>\n",
       "    <tbody>\n",
       "        <tr>\n",
       "            <td>3906    </td> <td>1        </td> <td>0.282896   </td> <td>0.084573       </td> <td>33  </td> <td>96    </td> <td>1883.33 </td> <td>8            </td> <td>1       </td> <td>1      </td> <td>1       </td> <td>0   </td> <td>1      </td>\n",
       "        </tr>\n",
       "    </tbody>\n",
       "        <tr>\n",
       "            <td>4122    </td> <td>1        </td> <td>0.738238   </td> <td>0.000449883    </td> <td>30  </td> <td>94    </td> <td>1700    </td> <td>18           </td> <td>0       </td> <td>0      </td> <td>1       </td> <td>0   </td> <td>0      </td>\n",
       "        </tr>\n",
       "    </tbody>\n",
       "        <tr>\n",
       "            <td>4448    </td> <td>0        </td> <td>0.471599   </td> <td>0.45591        </td> <td>35  </td> <td>92    </td> <td>1750    </td> <td>10           </td> <td>1       </td> <td>1      </td> <td>0       </td> <td>0   </td> <td>1      </td>\n",
       "        </tr>\n",
       "    </tbody>\n",
       "        <tr>\n",
       "            <td>4942    </td> <td>1        </td> <td>-0.253705  </td> <td>0.91851        </td> <td>27  </td> <td>82    </td> <td>1900    </td> <td>20           </td> <td>0       </td> <td>1      </td> <td>1       </td> <td>0   </td> <td>1      </td>\n",
       "        </tr>\n",
       "    </tbody>\n",
       "        <tr>\n",
       "            <td>5018    </td> <td>1        </td> <td>-0.606368  </td> <td>-0.377443      </td> <td>29  </td> <td>82    </td> <td>2138.89 </td> <td>15           </td> <td>1       </td> <td>1      </td> <td>1       </td> <td>0   </td> <td>1      </td>\n",
       "        </tr>\n",
       "    </tbody>\n",
       "        <tr>\n",
       "            <td>5614    </td> <td>1        </td> <td>0.427841   </td> <td>0.36998        </td> <td>32  </td> <td>79    </td> <td>1700    </td> <td>0            </td> <td>0       </td> <td>1      </td> <td>1       </td> <td>1   </td> <td>1      </td>\n",
       "        </tr>\n",
       "    </tbody>\n",
       "        <tr>\n",
       "            <td>6278    </td> <td>0        </td> <td>-0.101817  </td> <td>-0.0400528     </td> <td>32  </td> <td>77    </td> <td>1700    </td> <td>12           </td> <td>1       </td> <td>1      </td> <td>0       </td> <td>0   </td> <td>1      </td>\n",
       "        </tr>\n",
       "    </tbody>\n",
       "        <tr>\n",
       "            <td>6362    </td> <td>0        </td> <td>-0.620063  </td> <td>0.655319       </td> <td>29  </td> <td>82    </td> <td>1850    </td> <td>12           </td> <td>1       </td> <td>1      </td> <td>0       </td> <td>0   </td> <td>1      </td>\n",
       "        </tr>\n",
       "    </tbody>\n",
       "        <tr>\n",
       "            <td>6364    </td> <td>0        </td> <td>-0.159484  </td> <td>1.40904        </td> <td>26  </td> <td>82    </td> <td>1900    </td> <td>12           </td> <td>1       </td> <td>1      </td> <td>0       </td> <td>0   </td> <td>1      </td>\n",
       "        </tr>\n",
       "    </tbody>\n",
       "        <tr>\n",
       "            <td>7068    </td> <td>0        </td> <td>-0.9852    </td> <td>0.270699       </td> <td>28  </td> <td>72    </td> <td>1950    </td> <td>0            </td> <td>0       </td> <td>1      </td> <td>0       </td> <td>0   </td> <td>1      </td>\n",
       "        </tr>\n",
       "    </tbody>\n",
       "</table>\n",
       "<p>... (239 rows omitted)</p"
      ],
      "text/plain": [
       "personid | treatment | performance | performance_pre | age  | tenure | basewage | costofcommute | children | bedroom | expgroup | men  | married\n",
       "3906     | 1         | 0.282896    | 0.084573        | 33   | 96     | 1883.33  | 8             | 1        | 1       | 1        | 0    | 1\n",
       "4122     | 1         | 0.738238    | 0.000449883     | 30   | 94     | 1700     | 18            | 0        | 0       | 1        | 0    | 0\n",
       "4448     | 0         | 0.471599    | 0.45591         | 35   | 92     | 1750     | 10            | 1        | 1       | 0        | 0    | 1\n",
       "4942     | 1         | -0.253705   | 0.91851         | 27   | 82     | 1900     | 20            | 0        | 1       | 1        | 0    | 1\n",
       "5018     | 1         | -0.606368   | -0.377443       | 29   | 82     | 2138.89  | 15            | 1        | 1       | 1        | 0    | 1\n",
       "5614     | 1         | 0.427841    | 0.36998         | 32   | 79     | 1700     | 0             | 0        | 1       | 1        | 1    | 1\n",
       "6278     | 0         | -0.101817   | -0.0400528      | 32   | 77     | 1700     | 12            | 1        | 1       | 0        | 0    | 1\n",
       "6362     | 0         | -0.620063   | 0.655319        | 29   | 82     | 1850     | 12            | 1        | 1       | 0        | 0    | 1\n",
       "6364     | 0         | -0.159484   | 1.40904         | 26   | 82     | 1900     | 12            | 1        | 1       | 0        | 0    | 1\n",
       "7068     | 0         | -0.9852     | 0.270699        | 28   | 72     | 1950     | 0             | 0        | 1       | 0        | 0    | 1\n",
       "... (239 rows omitted)"
      ]
     },
     "execution_count": 21,
     "metadata": {},
     "output_type": "execute_result"
    }
   ],
   "source": [
    "experiment = Table.read_table('wfh_exp.csv')\n",
    "\n",
    "#fill in the blanks here\n",
    "exp_children = np.int32(experiment.column('children') == 'yes')\n",
    "exp_bedroom = np.int32(experiment.column('bedroom') == 'yes')\n",
    "\n",
    "\n",
    "experiment_clean = experiment.with_columns(['children', exp_children, 'bedroom', exp_bedroom])\n",
    "experiment_clean"
   ]
  },
  {
   "cell_type": "markdown",
   "metadata": {},
   "source": [
    "Here the variable `treatment` indicates whether an individual was assigned to the treatment group. A value of 0 means the employee was assigned to the control group. A value of 1 means he or she was assigned to the treatment group.\n",
    "\n",
    "We also have two measures of performance, `performance_pre` and `performance`. The scale for these measures requires some explanation. \n",
    "\n",
    "These measures summarize a variety of performance metrics, including the number of phone calls an employee answers, the number of orders taken, and the number of reservation phone calls made. Those performance metrics are combined into one index and then *normalized* to have mean 0 and standard deviation 1 over a period *prior to* the experiment. For example, a `performance` value of 1 would mean an employee had a performance level that was one standard deviation *greater* than the average employee during the pre-experiment period. A negative value of -1 would indicate a performance level that was one standard deviation *lower* than the average employee during the pre-experiment period.\n",
    "\n",
    "`performance_pre` and `performance` differ in the work period that they cover:\n",
    "\n",
    "`performance_pre`: This is a summary metric of an employee's work performance *prior to* the experiment.\n",
    "\n",
    "`performance`: This is a summary metric of an employee's work performance *during* the experiment. It uses the same normalization as `performance_pre`.\n",
    "\n",
    "Another note on these data: rather than `commute` from before, we now have a `costofcommute`, which measures the cost of an employee's commute in Yuan.\n",
    "\n",
    "<br>\n",
    "\n",
    "**6.** Compare average characteristics for workers in the treatment and control groups. This can still be done with the group function."
   ]
  },
  {
   "cell_type": "code",
   "execution_count": 22,
   "metadata": {},
   "outputs": [
    {
     "data": {
      "text/html": [
       "<table border=\"1\" class=\"dataframe\">\n",
       "    <thead>\n",
       "        <tr>\n",
       "            <th>treatment</th> <th>personid mean</th> <th>performance mean</th> <th>performance_pre mean</th> <th>age mean</th> <th>tenure mean</th> <th>basewage mean</th> <th>costofcommute mean</th> <th>children mean</th> <th>bedroom mean</th> <th>expgroup mean</th> <th>men mean</th> <th>married mean</th>\n",
       "        </tr>\n",
       "    </thead>\n",
       "    <tbody>\n",
       "        <tr>\n",
       "            <td>0        </td> <td>28865        </td> <td>-0.401291       </td> <td>-0.0401317          </td> <td>24.3475 </td> <td>28.2542    </td> <td>1562.8       </td> <td>8.33783           </td> <td>0.237288     </td> <td>0.991525    </td> <td>0            </td> <td>0.466102</td> <td>0.322034    </td>\n",
       "        </tr>\n",
       "    </tbody>\n",
       "        <tr>\n",
       "            <td>1        </td> <td>30299.2      </td> <td>-0.0513644      </td> <td>-0.0284502          </td> <td>24.4351 </td> <td>26.1374    </td> <td>1539.86      </td> <td>7.89174           </td> <td>0.114504     </td> <td>0.969466    </td> <td>1            </td> <td>0.465649</td> <td>0.221374    </td>\n",
       "        </tr>\n",
       "    </tbody>\n",
       "</table>"
      ],
      "text/plain": [
       "treatment | personid mean | performance mean | performance_pre mean | age mean | tenure mean | basewage mean | costofcommute mean | children mean | bedroom mean | expgroup mean | men mean | married mean\n",
       "0         | 28865         | -0.401291        | -0.0401317           | 24.3475  | 28.2542     | 1562.8        | 8.33783            | 0.237288      | 0.991525     | 0             | 0.466102 | 0.322034\n",
       "1         | 30299.2       | -0.0513644       | -0.0284502           | 24.4351  | 26.1374     | 1539.86       | 7.89174            | 0.114504      | 0.969466     | 1             | 0.465649 | 0.221374"
      ]
     },
     "execution_count": 22,
     "metadata": {},
     "output_type": "execute_result"
    }
   ],
   "source": [
    "treatment_vs_control = experiment_clean.group(\"treatment\",np.mean)\n",
    "treatment_vs_control"
   ]
  },
  {
   "cell_type": "markdown",
   "metadata": {},
   "source": [
    "Checking for whether treatment and control units look similar is called **checking for balance**. It is common practice when estimating causal effects.\n",
    "\n",
    "In general, the two groups of workers are more comparable than the two groups we compared in the previous section. This is to be expected given the (mostly) random assignment of employees to the treatment and control groups. We would not expect people born on even and odd days to be systematically different.\n",
    "\n",
    "Note that there are still some noticeable differences between the treatment and control groups. In particular, the control group is more likely to have children and to be married. These kinds of differences may emerge by chance, even under random assignment. But could they reflect systematic differences between employees born on even and odd days? Later on in Data 8 and this course, we'll discuss how to evaluate the size of these differences."
   ]
  },
  {
   "cell_type": "markdown",
   "metadata": {},
   "source": [
    "### Changes in Productivity?\n",
    "\n",
    "Finally, let's examine how worker *performance* compares in the treatment and control groups. Performance during the experiment period is reported in the column `performance`."
   ]
  },
  {
   "cell_type": "markdown",
   "metadata": {},
   "source": [
    "**7. ** Make a bar chart that plots the averages of `performance_pre` and `performance` for the treatment and control groups. In total, your figure should include four bars.\n",
    "\n",
    "You can use the treatment_vs_control table created earlier, however you need to be sure to only select the relevant columns, which are `treatment` , `performance mean`, and `performance_pre mean`. The call will look like *table.select().barh()*."
   ]
  },
  {
   "cell_type": "code",
   "execution_count": 79,
   "metadata": {},
   "outputs": [
    {
     "data": {
      "image/png": "[encoded data removed]",
      "text/plain": [
       "<matplotlib.figure.Figure at 0x7ff0f721c668>"
      ]
     },
     "metadata": {},
     "output_type": "display_data"
    }
   ],
   "source": [
    "#bar chart of baseline experiment period performance by treatment group\n",
    "treatment_vs_control.select(\"treatment\",\"performance mean\",\"performance_pre mean\").barh(0)"
   ]
  },
  {
   "cell_type": "markdown",
   "metadata": {},
   "source": [
    "At baseline, productivity in the treatment and control groups are quite similar. This is what we should expect under random assignment.\n",
    "\n",
    "However, during the experiment period *large differences* in productivity emerge. In particular, `performance` is large in magnitude and *negative* in the control group. This indicates that, for whatever reason, average productivity was lower in the control group during the experiment period than in the baseline period. This might reflect that the experiment happened to coincide with a down period for the company.\n",
    "\n",
    "By contrast, the `peformance` in the treatment group is mostly unchanged.\n",
    "\n",
    "**The difference in `performance` between the treatment and control groups reflects the *causal* effect of working from home on productivity. Our estimate for the causal effect of WFH is that it increases average performance by about 0.35 standard deviations.** This corresponds to about 15% more calls handled per day.\n",
    "\n",
    "### What Did Ctrip Learn?\n",
    "\n",
    "The overall impact of WFH was quite positive. The firm improved productivity by between 20% to 30% and saved about\n",
    "$2,000 a year per employee that was working from home. These gains came from the reduction in required office space, improved employee performance, and reduced turnover. [We will discuss the turnover results in more detail when we discuss Attrition in Week 7.]\n",
    "\n",
    "The success of the experiment led Ctrip to offer the option to work from home to all qualifying employees. They also allowed treatment group employees to return to the office.\n",
    "\n",
    "In what was a surprise to management, despite the gains in performance, after the experiment half of treatment group employees decided to return to the office, and two thirds of the control group (who had earlier volunteered to work from hom) decided to stay in the office. The primary reason for switching was the concern over the loneliness and social isolation of working from home. Treatment group workers that performed badly while working at home were also more likely to switch back to office work.\n",
    "\n",
    "<img src=\"post_experiment.png\" alt=\"Drawing\" style=\"width: 500px;\"/>"
   ]
  },
  {
   "cell_type": "code",
   "execution_count": null,
   "metadata": {},
   "outputs": [
    {
     "name": "stdout",
     "output_type": "stream",
     "text": [
      "=====================================================================\n",
      "Assignment: Lab 2\n",
      "OK, version v1.12.5\n",
      "=====================================================================\n",
      "\n",
      "\n",
      "Open the following URL:\n",
      "\n",
      "https://okpy.org/client/login/\n",
      "\n",
      "After logging in, copy the code from the web page and paste it into the box.\n",
      "Then press the \"Enter\" key on your keyboard.\n",
      "\n"
     ]
    }
   ],
   "source": [
    "from client.api.notebook import Notebook\n",
    "ok = Notebook('lab2.ok')\n",
    "_ = ok.auth(inline=True)\n",
    "_ = ok.submit()"
   ]
  },
  {
   "cell_type": "code",
   "execution_count": null,
   "metadata": {},
   "outputs": [],
   "source": []
  }
 ],
 "metadata": {
  "kernelspec": {
   "display_name": "Python 3",
   "language": "python",
   "name": "python3"
  },
  "language_info": {
   "codemirror_mode": {
    "name": "ipython",
    "version": 3
   },
   "file_extension": ".py",
   "mimetype": "text/x-python",
   "name": "python",
   "nbconvert_exporter": "python",
   "pygments_lexer": "ipython3",
   "version": "3.6.1"
  }
 },
 "nbformat": 4,
 "nbformat_minor": 2
}
